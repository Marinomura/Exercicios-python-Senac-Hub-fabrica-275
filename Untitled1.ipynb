{
  "nbformat": 4,
  "nbformat_minor": 0,
  "metadata": {
    "colab": {
      "provenance": [],
      "authorship_tag": "ABX9TyNAaP1tht8F+e4lONhEVpyS",
      "include_colab_link": true
    },
    "kernelspec": {
      "name": "python3",
      "display_name": "Python 3"
    },
    "language_info": {
      "name": "python"
    }
  },
  "cells": [
    {
      "cell_type": "markdown",
      "metadata": {
        "id": "view-in-github",
        "colab_type": "text"
      },
      "source": [
        "<a href=\"https://colab.research.google.com/github/Marinomura/Exercicios-python-Senac-Hub-fabrica-275/blob/main/Untitled1.ipynb\" target=\"_parent\"><img src=\"https://colab.research.google.com/assets/colab-badge.svg\" alt=\"Open In Colab\"/></a>"
      ]
    },
    {
      "cell_type": "code",
      "execution_count": 1,
      "metadata": {
        "id": "2xDlZ4-yMk8U"
      },
      "outputs": [],
      "source": [
        "def remove_dup(x):\n",
        "  y=[]\n",
        "  for i in x:\n",
        "    if i not in y:\n",
        "      y.append(i)\n",
        "  return y\n",
        "      "
      ]
    },
    {
      "cell_type": "code",
      "source": [
        "num_clientes=[110,220,330,440,330,220,110,220]\n"
      ],
      "metadata": {
        "id": "JEBif8aARCcB"
      },
      "execution_count": 2,
      "outputs": []
    },
    {
      "cell_type": "code",
      "source": [
        "print (remove_dup(num_clientes))"
      ],
      "metadata": {
        "colab": {
          "base_uri": "https://localhost:8080/"
        },
        "id": "YUIpu8VrRWcX",
        "outputId": "d1b2d4c4-8e26-410b-c761-799848bb37ff"
      },
      "execution_count": 3,
      "outputs": [
        {
          "output_type": "stream",
          "name": "stdout",
          "text": [
            "[110, 220, 330, 440]\n"
          ]
        }
      ]
    }
  ]
}